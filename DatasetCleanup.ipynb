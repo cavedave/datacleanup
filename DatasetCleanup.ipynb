{
 "cells": [
  {
   "cell_type": "markdown",
   "metadata": {},
   "source": [
    "# How to Clean up a Dataset"
   ]
  },
  {
   "cell_type": "markdown",
   "metadata": {},
   "source": [
    "![Baby Bunny](img/kit.jpeg)"
   ]
  },
  {
   "cell_type": "markdown",
   "metadata": {},
   "source": [
    "## Load Libraries"
   ]
  },
  {
   "cell_type": "code",
   "execution_count": 6,
   "metadata": {},
   "outputs": [
    {
     "name": "stdout",
     "output_type": "stream",
     "text": [
      "The autoreload extension is already loaded. To reload it, use:\n",
      "  %reload_ext autoreload\n"
     ]
    }
   ],
   "source": [
    "%matplotlib inline\n",
    "#generic imports\n",
    "import csv\n",
    "import notebook as nb\n",
    "import os\n",
    "import pandas as pd\n",
    "import numpy as np\n",
    "import matplotlib.pyplot as plt\n",
    "#import json\n",
    "import sys\n",
    "import inspect\n",
    "import math\n",
    "from sklearn.pipeline import Pipeline\n",
    "from sklearn.linear_model import SGDClassifier\n",
    "from sklearn.feature_extraction.text import CountVectorizer\n",
    "from sklearn import metrics\n",
    "from sklearn.utils import shuffle\n",
    "\n",
    "import random\n",
    "\n",
    "dir = os.path.dirname(os.path.abspath(inspect.getfile(inspect.currentframe()))) # script directory\n",
    "\n",
    "%load_ext autoreload\n",
    "%autoreload 2"
   ]
  },
  {
   "cell_type": "markdown",
   "metadata": {},
   "source": [
    "You have some example documents with classifications and you want to increase the accuracy of predictions you make with this dataset. This is a workshop to find issues in a dataset with python. \n",
    "\n",
    "We use a bunny farm chatbot. But sentiment analysis, news, email classification or any supervised learning dataset will have similar issues."
   ]
  },
  {
   "cell_type": "markdown",
   "metadata": {},
   "source": [
    "## Bashful Bunnies"
   ]
  },
  {
   "cell_type": "markdown",
   "metadata": {},
   "source": [
    "A pet rabbit seller on facebook wants to answer common customer questions while they are offline. They give you previous questions they have been asked. And you help them label these by Topic_Verb. This is a whole other talk.\n",
    "\n",
    "Now you want to quickly go through these labels to find mistakes. Usually 500 questions in 20-50 intents. "
   ]
  },
  {
   "cell_type": "markdown",
   "metadata": {},
   "source": [
    "# Tasks\n",
    "<input type=\"checkbox\"> Load Libraries\n",
    "<input type=\"checkbox\"> Load Data\n",
    "<input type=\"checkbox\"> Language specific stuff (spelling, accents, segment words in Chinese etc)\n",
    "<input type=\"checkbox\"> Run KFold test\n",
    "<input type=\"checkbox\"> Save Data to show improvements\n",
    "<input type=\"checkbox\"> Graph questions, Intents and Accuracy\n",
    "<input type=\"checkbox\"> Find Duplicates\n",
    "<input type=\"checkbox\"> Find Wrongly labeled\n",
    "<input type=\"checkbox\"> Find Double Categories\n",
    "<input type=\"checkbox\"> Find Nonsense\n",
    "<input type=\"checkbox\"> Find Bad intents\n",
    "<input type=\"checkbox\"> Look at confusion Matrix\n",
    "<input type=\"checkbox\"> Label new data \n"
   ]
  },
  {
   "cell_type": "markdown",
   "metadata": {},
   "source": [
    "## Load Data"
   ]
  },
  {
   "cell_type": "markdown",
   "metadata": {},
   "source": [
    "First off load the data. The file needs to be this name, type and in he local directory. And in the format Question, Intent with a header"
   ]
  },
  {
   "cell_type": "code",
   "execution_count": 15,
   "metadata": {},
   "outputs": [
    {
     "data": {
      "text/html": [
       "<div>\n",
       "<style scoped>\n",
       "    .dataframe tbody tr th:only-of-type {\n",
       "        vertical-align: middle;\n",
       "    }\n",
       "\n",
       "    .dataframe tbody tr th {\n",
       "        vertical-align: top;\n",
       "    }\n",
       "\n",
       "    .dataframe thead th {\n",
       "        text-align: right;\n",
       "    }\n",
       "</style>\n",
       "<table border=\"1\" class=\"dataframe\">\n",
       "  <thead>\n",
       "    <tr style=\"text-align: right;\">\n",
       "      <th></th>\n",
       "      <th>Question</th>\n",
       "      <th>Intent</th>\n",
       "    </tr>\n",
       "  </thead>\n",
       "  <tbody>\n",
       "    <tr>\n",
       "      <th>0</th>\n",
       "      <td>Are the baby rabbits certified?</td>\n",
       "      <td>RABBIT_CERTIFICATION</td>\n",
       "    </tr>\n",
       "    <tr>\n",
       "      <th>1</th>\n",
       "      <td>What cert does the kit have?</td>\n",
       "      <td>RABBIT_CERTIFICATION</td>\n",
       "    </tr>\n",
       "    <tr>\n",
       "      <th>2</th>\n",
       "      <td>Does the rabbit have a certificate? And what f...</td>\n",
       "      <td>RABBIT_CERTIFICATION</td>\n",
       "    </tr>\n",
       "    <tr>\n",
       "      <th>3</th>\n",
       "      <td>Is the kit certified by a vet?</td>\n",
       "      <td>RABBIT_CERTIFICATION</td>\n",
       "    </tr>\n",
       "    <tr>\n",
       "      <th>4</th>\n",
       "      <td>Has the kit been cleared by a vet?</td>\n",
       "      <td>RABBIT_CERTIFICATION</td>\n",
       "    </tr>\n",
       "  </tbody>\n",
       "</table>\n",
       "</div>"
      ],
      "text/plain": [
       "                                            Question                Intent\n",
       "0                    Are the baby rabbits certified?  RABBIT_CERTIFICATION\n",
       "1                       What cert does the kit have?  RABBIT_CERTIFICATION\n",
       "2  Does the rabbit have a certificate? And what f...  RABBIT_CERTIFICATION\n",
       "3                     Is the kit certified by a vet?  RABBIT_CERTIFICATION\n",
       "4                 Has the kit been cleared by a vet?  RABBIT_CERTIFICATION"
      ]
     },
     "execution_count": 15,
     "metadata": {},
     "output_type": "execute_result"
    }
   ],
   "source": [
    "filePath = r'bunny.csv'\n",
    "df = pd.read_csv(filePath,header=0,encoding='utf-8')\n",
    "df.head()"
   ]
  },
  {
   "cell_type": "markdown",
   "metadata": {},
   "source": [
    "Ground Truth is utterence (question), intent\n",
    "\n",
    "  - Real questions from real users\n",
    "  - Topic_Verb the utterences\n",
    " \n",
    " 10 topics, 50 intents, 2000 Questions but this process here with 500."
   ]
  },
  {
   "cell_type": "markdown",
   "metadata": {},
   "source": [
    "# Start Analysis"
   ]
  },
  {
   "cell_type": "markdown",
   "metadata": {},
   "source": [
    "## Make Kfolds"
   ]
  },
  {
   "cell_type": "markdown",
   "metadata": {},
   "source": [
    "Make a classifier and get it to classify every quesstion in the training data. \n",
    "\n",
    "What it gets wrong we look at to see if our original classificationw as wrong."
   ]
  },
  {
   "cell_type": "code",
   "execution_count": 16,
   "metadata": {},
   "outputs": [],
   "source": [
    "#Make five folds\n",
    "#shuffle the data\n",
    "df = shuffle(df, random_state=0)\n",
    "df = df.dropna()\n",
    "numFolds=5\n",
    "size=math.trunc(len(df)/numFolds)\n",
    "#MAke the flds 5 folds\n",
    "Fold1=df[:size]\n",
    "Fold2=df[size:(size*2)]\n",
    "Fold3=df[(size*2):(size*3)]\n",
    "Fold4=df[(size*3):(size*4)]\n",
    "Fold5=df[(size*4):]"
   ]
  },
  {
   "cell_type": "markdown",
   "metadata": {},
   "source": [
    "### now we have folds define a classifier"
   ]
  },
  {
   "cell_type": "code",
   "execution_count": 8,
   "metadata": {
    "collapsed": true
   },
   "outputs": [],
   "source": [
    "\n",
    "\n",
    "text_clf = Pipeline([('vect', CountVectorizer(ngram_range=(1, 2) )),#,stop_words=stopWords ngram_range=(1, 1)\n",
    "                    ('clf',  SGDClassifier(loss='modified_huber', penalty='l2',alpha=1e-3, tol=0.001, max_iter=1000, random_state=42)),#n_iter=20 'hinge'\n",
    "                    #('clf',  MultinomialNB(alpha=1.0, class_prior=None, fit_prior=True)),\n",
    "                    ]) \n"
   ]
  },
  {
   "cell_type": "code",
   "execution_count": 18,
   "metadata": {},
   "outputs": [
    {
     "name": "stdout",
     "output_type": "stream",
     "text": [
      "accuracy is 0.5565217391304348\n"
     ]
    }
   ],
   "source": [
    "#This is what makes train smaller\n",
    "train = pd.concat([Fold2, Fold3, Fold4,Fold5]) \n",
    "text_clf.fit(train.Question, train.Intent)\n",
    "\n",
    "\n",
    "df1 = pd.DataFrame(columns=['Question', 'GTIntent', 'Prediction 1','Conf 1','Pred2','conf2','match'])\n",
    "\n",
    "total=0\n",
    "\n",
    "\n",
    "def runFold(test):\n",
    "    i=0\n",
    "    global total,df1\n",
    "\n",
    "    for row in test.iterrows():\n",
    "        row2=[test.iloc[i,0]]\n",
    "        #row2=[row]\n",
    "        predicted=text_clf.predict(row2)\n",
    "        values= text_clf.predict_proba(row2)\n",
    "        best_n = np.argsort(values, axis=1)[:,-3:]\n",
    "    \n",
    "        if test.iloc[i,1]==predicted[0]:\n",
    "                match=1\n",
    "                total=total+1\n",
    "        else:\n",
    "                match=0\n",
    "            \n",
    "\n",
    "        df1 = df1.append({'Question' : row2[0] , 'GTIntent' : test.iloc[i,1],'Prediction 1':text_clf.classes_[best_n.item(2)],'Conf 1':math.trunc(values[0][best_n.item(2)]*100),'Pred2':text_clf.classes_[best_n.item(1)],'conf2':math.trunc(values[0][best_n.item(1)]*100),'match':match} , ignore_index=True)#,'':,'':,'':,'':,'':\n",
    "\n",
    "\n",
    "        i=i+1\n",
    "\n",
    "        \n",
    "train = pd.concat([Fold2, Fold3, Fold4,Fold5]) \n",
    "text_clf.fit(train.Question, train.Intent)        \n",
    "runFold(Fold1)\n",
    "train = pd.concat([Fold1, Fold3, Fold4,Fold5]) \n",
    "text_clf.fit(train.Question, train.Intent)        \n",
    "runFold(Fold2)\n",
    "train = pd.concat([Fold1, Fold2, Fold4,Fold5]) \n",
    "text_clf.fit(train.Question, train.Intent)        \n",
    "runFold(Fold3)\n",
    "train = pd.concat([Fold1, Fold2, Fold3,Fold5]) \n",
    "text_clf.fit(train.Question, train.Intent)        \n",
    "runFold(Fold4)\n",
    "train = pd.concat([Fold1, Fold2, Fold3,Fold4]) \n",
    "text_clf.fit(train.Question, train.Intent)        \n",
    "runFold(Fold5)\n",
    "\n",
    "\n",
    "print(\"accuracy is \"+str(total/(len(Fold1)*5)))\n",
    "df1.to_excel('checkThese.xlsx', encoding='utf-8', index=False)#\n",
    "\n"
   ]
  },
  {
   "cell_type": "code",
   "execution_count": 178,
   "metadata": {
    "collapsed": true
   },
   "outputs": [],
   "source": [
    "## save data in a csv \n",
    "## Date, Accuracy, intent numbers, question numbers\n",
    "import datetime as dt\n",
    "now=dt.datetime.today().strftime(\"%m/%d/%Y\")\n",
    "\n",
    "with open(\"result_statistics.csv\", \"a\") as myfile:\n",
    "    myfile.write(now+\",\"+str(df['Intent'].nunique())+\",\"+str(len(df))+\",\"+str(math.trunc((total/(len(Fold1)*5)*100)))+\"\\n\")    "
   ]
  },
  {
   "cell_type": "code",
   "execution_count": 179,
   "metadata": {},
   "outputs": [
    {
     "data": {
      "text/html": [
       "<div>\n",
       "<style scoped>\n",
       "    .dataframe tbody tr th:only-of-type {\n",
       "        vertical-align: middle;\n",
       "    }\n",
       "\n",
       "    .dataframe tbody tr th {\n",
       "        vertical-align: top;\n",
       "    }\n",
       "\n",
       "    .dataframe thead th {\n",
       "        text-align: right;\n",
       "    }\n",
       "</style>\n",
       "<table border=\"1\" class=\"dataframe\">\n",
       "  <thead>\n",
       "    <tr style=\"text-align: right;\">\n",
       "      <th></th>\n",
       "      <th>date</th>\n",
       "      <th>intents</th>\n",
       "      <th>questions</th>\n",
       "      <th>accuracy</th>\n",
       "    </tr>\n",
       "  </thead>\n",
       "  <tbody>\n",
       "    <tr>\n",
       "      <th>0</th>\n",
       "      <td>10/03/2019</td>\n",
       "      <td>2</td>\n",
       "      <td>13000</td>\n",
       "      <td>70</td>\n",
       "    </tr>\n",
       "    <tr>\n",
       "      <th>1</th>\n",
       "      <td>10/07/2019</td>\n",
       "      <td>3</td>\n",
       "      <td>500</td>\n",
       "      <td>67</td>\n",
       "    </tr>\n",
       "    <tr>\n",
       "      <th>2</th>\n",
       "      <td>10/07/2019</td>\n",
       "      <td>3</td>\n",
       "      <td>404</td>\n",
       "      <td>66</td>\n",
       "    </tr>\n",
       "    <tr>\n",
       "      <th>3</th>\n",
       "      <td>10/07/2019</td>\n",
       "      <td>3</td>\n",
       "      <td>320</td>\n",
       "      <td>65</td>\n",
       "    </tr>\n",
       "    <tr>\n",
       "      <th>4</th>\n",
       "      <td>10/07/2019</td>\n",
       "      <td>3</td>\n",
       "      <td>504</td>\n",
       "      <td>70</td>\n",
       "    </tr>\n",
       "  </tbody>\n",
       "</table>\n",
       "</div>"
      ],
      "text/plain": [
       "         date  intents  questions  accuracy\n",
       "0  10/03/2019        2      13000        70\n",
       "1  10/07/2019        3        500        67\n",
       "2  10/07/2019        3        404        66\n",
       "3  10/07/2019        3        320        65\n",
       "4  10/07/2019        3        504        70"
      ]
     },
     "execution_count": 179,
     "metadata": {},
     "output_type": "execute_result"
    }
   ],
   "source": [
    "\n",
    "#date,intents,questions,accuracy\n",
    "filePath = r'result_statistics.csv'\n",
    "plotdata = pd.read_csv(filePath,header=0)\n",
    "\n",
    "#df = df.iloc[1:]\n",
    "plotdata.head()"
   ]
  },
  {
   "cell_type": "markdown",
   "metadata": {},
   "source": [
    "## Make graphs"
   ]
  },
  {
   "cell_type": "markdown",
   "metadata": {},
   "source": []
  },
  {
   "cell_type": "markdown",
   "metadata": {},
   "source": [
    "## Accuracy of intents graphs and tables"
   ]
  },
  {
   "cell_type": "code",
   "execution_count": 91,
   "metadata": {},
   "outputs": [],
   "source": [
    "colors=[]\n",
    "when = plotdata.iloc[:,0]\n",
    "#make a random list of colors\n",
    "for i in enumerate(when):\n",
    "    nextC=random(),random(),random()\n",
    "    colors.append(nextC)\n",
    "    \n",
    "   "
   ]
  },
  {
   "cell_type": "code",
   "execution_count": 92,
   "metadata": {},
   "outputs": [
    {
     "data": {
      "image/png": "[encoded data removed]",
      "text/plain": [
       "<Figure size 640x480 with 1 Axes>"
      ]
     },
     "metadata": {},
     "output_type": "display_data"
    }
   ],
   "source": [
    "when = plotdata.iloc[:,0]\n",
    "performance = plotdata.iloc[:,3]\n",
    "\n",
    "y_pos = np.arange(len(when))\n",
    "plt.bar(y_pos, performance, align='center', alpha=0.5, color=colors)\n",
    "\n",
    "\n",
    "plt.xticks(y_pos, when)\n",
    "plt.ylabel('Accuracy')\n",
    "plt.title('Accuracy After Each Improvement Cycle')\n",
    "\n",
    "\n",
    "\n",
    "plt.savefig('AccuracyExamplesOct02.png')\n",
    "plt.savefig('AccuracyExamplesOct02.pdf')"
   ]
  },
  {
   "cell_type": "markdown",
   "metadata": {},
   "source": [
    "![rabbit eating](img/coco2.jpg)"
   ]
  },
  {
   "cell_type": "markdown",
   "metadata": {},
   "source": [
    "## Find Errors"
   ]
  },
  {
   "cell_type": "markdown",
   "metadata": {},
   "source": [
    "Three kinds of errors\n",
    "Duplicates\n",
    "Confident and wrong\n",
    "second cofidence wrong\n",
    "low confidence nonesense"
   ]
  },
  {
   "cell_type": "code",
   "execution_count": 19,
   "metadata": {},
   "outputs": [
    {
     "data": {
      "text/html": [
       "<div>\n",
       "<style scoped>\n",
       "    .dataframe tbody tr th:only-of-type {\n",
       "        vertical-align: middle;\n",
       "    }\n",
       "\n",
       "    .dataframe tbody tr th {\n",
       "        vertical-align: top;\n",
       "    }\n",
       "\n",
       "    .dataframe thead th {\n",
       "        text-align: right;\n",
       "    }\n",
       "</style>\n",
       "<table border=\"1\" class=\"dataframe\">\n",
       "  <thead>\n",
       "    <tr style=\"text-align: right;\">\n",
       "      <th></th>\n",
       "      <th>Question</th>\n",
       "      <th>GTIntent</th>\n",
       "      <th>Prediction 1</th>\n",
       "      <th>Conf 1</th>\n",
       "      <th>Pred2</th>\n",
       "      <th>conf2</th>\n",
       "      <th>match</th>\n",
       "    </tr>\n",
       "  </thead>\n",
       "  <tbody>\n",
       "    <tr>\n",
       "      <th>110</th>\n",
       "      <td>I will buy the kit if you let me veterianian s...</td>\n",
       "      <td>RABBIT_HEALTH</td>\n",
       "      <td>RABBIT_SOCIALISATION</td>\n",
       "      <td>11</td>\n",
       "      <td>RABBIT_PARENTS</td>\n",
       "      <td>11</td>\n",
       "      <td>1</td>\n",
       "    </tr>\n",
       "    <tr>\n",
       "      <th>111</th>\n",
       "      <td>has the kit had to go see a vet?</td>\n",
       "      <td>RABBIT_HEALTH</td>\n",
       "      <td>RABBIT_HEALTH</td>\n",
       "      <td>100</td>\n",
       "      <td>RABBIT_SOCIALISATION</td>\n",
       "      <td>0</td>\n",
       "      <td>1</td>\n",
       "    </tr>\n",
       "    <tr>\n",
       "      <th>112</th>\n",
       "      <td>Did the rabbit have to visit a vet?</td>\n",
       "      <td>RABBIT_HEALTH</td>\n",
       "      <td>RABBIT_HEALTH</td>\n",
       "      <td>100</td>\n",
       "      <td>RABBIT_SOCIALISATION</td>\n",
       "      <td>0</td>\n",
       "      <td>1</td>\n",
       "    </tr>\n",
       "    <tr>\n",
       "      <th>113</th>\n",
       "      <td>Do you verify that the kit does not have fleas?</td>\n",
       "      <td>RABBIT_HEALTH</td>\n",
       "      <td>RABBIT_SOCIALISATION</td>\n",
       "      <td>11</td>\n",
       "      <td>RABBIT_PARENTS</td>\n",
       "      <td>11</td>\n",
       "      <td>1</td>\n",
       "    </tr>\n",
       "    <tr>\n",
       "      <th>114</th>\n",
       "      <td>Can you guarantee the rabbit  doesn't have worms?</td>\n",
       "      <td>RABBIT_HEALTH</td>\n",
       "      <td>RABBIT_SOCIALISATION</td>\n",
       "      <td>11</td>\n",
       "      <td>RABBIT_PARENTS</td>\n",
       "      <td>11</td>\n",
       "      <td>0</td>\n",
       "    </tr>\n",
       "  </tbody>\n",
       "</table>\n",
       "</div>"
      ],
      "text/plain": [
       "                                              Question       GTIntent  \\\n",
       "110  I will buy the kit if you let me veterianian s...  RABBIT_HEALTH   \n",
       "111                   has the kit had to go see a vet?  RABBIT_HEALTH   \n",
       "112                Did the rabbit have to visit a vet?  RABBIT_HEALTH   \n",
       "113    Do you verify that the kit does not have fleas?  RABBIT_HEALTH   \n",
       "114  Can you guarantee the rabbit  doesn't have worms?  RABBIT_HEALTH   \n",
       "\n",
       "             Prediction 1 Conf 1                 Pred2 conf2 match  \n",
       "110  RABBIT_SOCIALISATION     11        RABBIT_PARENTS    11     1  \n",
       "111         RABBIT_HEALTH    100  RABBIT_SOCIALISATION     0     1  \n",
       "112         RABBIT_HEALTH    100  RABBIT_SOCIALISATION     0     1  \n",
       "113  RABBIT_SOCIALISATION     11        RABBIT_PARENTS    11     1  \n",
       "114  RABBIT_SOCIALISATION     11        RABBIT_PARENTS    11     0  "
      ]
     },
     "execution_count": 19,
     "metadata": {},
     "output_type": "execute_result"
    }
   ],
   "source": [
    "df1.tail()"
   ]
  },
  {
   "cell_type": "code",
   "execution_count": 20,
   "metadata": {},
   "outputs": [
    {
     "name": "stdout",
     "output_type": "stream",
     "text": [
      "Empty DataFrame\n",
      "Columns: [Question, Intent]\n",
      "Index: []\n"
     ]
    }
   ],
   "source": [
    "dupes = pd.DataFrame()\n",
    "dupes=df[df.duplicated('Question', keep=False)]\n",
    "dupes = dupes.sort_values('Question',ascending=False)\n",
    "#dupes.to_html('dupes.html', encoding='utf-8')\n",
    "\n",
    "htmld = dupes.to_html()\n",
    "#with open(\"dupes.html\", \"w\", encoding=\"utf-8\") as file:\n",
    "#    file.write(html)\n",
    "    "
   ]
  },
  {
   "cell_type": "markdown",
   "metadata": {},
   "source": [
    "![dog](img/dog.jpg) "
   ]
  },
  {
   "cell_type": "code",
   "execution_count": 21,
   "metadata": {
    "collapsed": true
   },
   "outputs": [],
   "source": [
    "#Find high confidence wrong\n",
    "highWrong = df1[(df1['Conf 1'] > 95) & (df1['match'] ==0)]\n",
    "highWrong=highWrong.sort_values(by=['Conf 1'],ascending=False)\n",
    "\n",
    "htmlhw = highWrong.to_html()\n",
    "#with open(\"highWronguestions.html\", \"w\", encoding=\"utf-8\") as file:\n",
    "#    file.write(html)\n",
    "    "
   ]
  },
  {
   "cell_type": "markdown",
   "metadata": {},
   "source": [
    "![two at once](img/maxresdefault.jpg) "
   ]
  },
  {
   "cell_type": "code",
   "execution_count": 22,
   "metadata": {
    "collapsed": true
   },
   "outputs": [],
   "source": [
    "#Find intents where second intent is high confidence\n",
    "\n",
    "doubleq = df1[df1.conf2 > 45]\n",
    "doubleq=doubleq.sort_values(by=['conf2'],ascending=False)\n",
    "htmldq = doubleq.to_html()\n",
    "#with open(\"doublequestions.html\", \"w\", encoding=\"utf-8\") as file:\n",
    "#    file.write(html)\n",
    "    \n",
    "    "
   ]
  },
  {
   "cell_type": "markdown",
   "metadata": {},
   "source": [
    "Why two questions at once?\n",
    "  -  Customers see one task when business sees two. 'I want to cancel my card and get a new one'\n",
    "  -  People complain about two things at once. 'The food is terrible and the portions are too small'\n",
    "  -  Chatbot is not clear enough to ask one question at a time. This is the big reason to admit you are a chatbot\n",
    "  -  Just asked two questions when they shouldnt have"
   ]
  },
  {
   "cell_type": "markdown",
   "metadata": {},
   "source": [
    "![rabbit eating](img/0000049339.jpg)"
   ]
  },
  {
   "cell_type": "code",
   "execution_count": 23,
   "metadata": {
    "collapsed": true
   },
   "outputs": [],
   "source": [
    "#Find intents that are low confidence and wrong. Might be nonsense\n",
    "\n",
    "verylow = df1[(df1['Conf 1'] < 10) & (df1['match'] ==0)]\n",
    "verylow=verylow.sort_values(by=['conf2'],ascending=False)\n",
    "dflc = verylow.to_html()\n",
    "#df.to_html('filename.html')\n",
    "\n",
    "#with open(\"lowconf.html\", \"w\", encoding=\"utf-8\") as file:\n",
    "#    file.write(html)"
   ]
  },
  {
   "cell_type": "code",
   "execution_count": 24,
   "metadata": {},
   "outputs": [],
   "source": [
    "with open(\"all.html\", 'w') as _file:\n",
    "    _file.write( \"<h1>Duplicates</h1>\"+htmld + \"\\n\\n<h1>Double Questions</h1>\" + htmldq+ \"\\n\\n<h1>High Confidence Wrong</h1>\"+ htmlhw+ \"\\n\\n<h1>Could be Nonsense</h1>\"+ dflc)"
   ]
  },
  {
   "cell_type": "markdown",
   "metadata": {
    "collapsed": true
   },
   "source": [
    "## Find bad intents"
   ]
  },
  {
   "cell_type": "markdown",
   "metadata": {},
   "source": [
    "![rabbit eating](img/bunny2.jpg)"
   ]
  },
  {
   "cell_type": "markdown",
   "metadata": {},
   "source": [
    "![Low and right should be looked at](img/fixthese2.png)\n"
   ]
  },
  {
   "cell_type": "code",
   "execution_count": 25,
   "metadata": {
    "collapsed": true
   },
   "outputs": [],
   "source": [
    "wrong = df1[(df1['GTIntent']!=df1['Prediction 1'])]\n",
    "correct = df1[(df1['GTIntent']==df1['Prediction 1'])]\n",
    "\n",
    "wf=wrong.groupby(['GTIntent'], as_index=False).count()\n",
    "crf=correct.groupby(['GTIntent'], as_index=False).count()\n",
    "gf1=wf[['GTIntent','Question']]\n",
    "gf1.columns = ['Intent', 'wrong']\n",
    "\n",
    "\n",
    "crf1=crf[['GTIntent','Question']]\n",
    "crf1.columns = ['Intent', 'right']\n",
    "crf1.head()\n",
    "result = pd.merge(crf1,gf1,on='Intent',how='outer')\n",
    "result=result.fillna(0)\n",
    "#calculate percentage we got right\n",
    "result['percent'] = (result['right']/(result['wrong'] + result['right']))*100\n",
    "#total questions\n",
    "result['total'] = result['wrong'] + result['right']\n",
    "result=result.round(0)"
   ]
  },
  {
   "cell_type": "code",
   "execution_count": 26,
   "metadata": {},
   "outputs": [
    {
     "data": {
      "text/html": [
       "<div>\n",
       "<style scoped>\n",
       "    .dataframe tbody tr th:only-of-type {\n",
       "        vertical-align: middle;\n",
       "    }\n",
       "\n",
       "    .dataframe tbody tr th {\n",
       "        vertical-align: top;\n",
       "    }\n",
       "\n",
       "    .dataframe thead th {\n",
       "        text-align: right;\n",
       "    }\n",
       "</style>\n",
       "<table border=\"1\" class=\"dataframe\">\n",
       "  <thead>\n",
       "    <tr style=\"text-align: right;\">\n",
       "      <th></th>\n",
       "      <th>Intent</th>\n",
       "      <th>right</th>\n",
       "      <th>wrong</th>\n",
       "      <th>percent</th>\n",
       "      <th>total</th>\n",
       "    </tr>\n",
       "  </thead>\n",
       "  <tbody>\n",
       "    <tr>\n",
       "      <th>4</th>\n",
       "      <td>RABBIT_HEALTH</td>\n",
       "      <td>22.0</td>\n",
       "      <td>22</td>\n",
       "      <td>50.0</td>\n",
       "      <td>44.0</td>\n",
       "    </tr>\n",
       "    <tr>\n",
       "      <th>5</th>\n",
       "      <td>RABBIT_PARENTS</td>\n",
       "      <td>11.0</td>\n",
       "      <td>3</td>\n",
       "      <td>79.0</td>\n",
       "      <td>14.0</td>\n",
       "    </tr>\n",
       "    <tr>\n",
       "      <th>0</th>\n",
       "      <td>BREEDER_INFORMATION</td>\n",
       "      <td>4.0</td>\n",
       "      <td>8</td>\n",
       "      <td>33.0</td>\n",
       "      <td>12.0</td>\n",
       "    </tr>\n",
       "    <tr>\n",
       "      <th>2</th>\n",
       "      <td>PURCHASE_RABBIT</td>\n",
       "      <td>4.0</td>\n",
       "      <td>5</td>\n",
       "      <td>44.0</td>\n",
       "      <td>9.0</td>\n",
       "    </tr>\n",
       "    <tr>\n",
       "      <th>6</th>\n",
       "      <td>RABBIT_SOCIALISATION</td>\n",
       "      <td>7.0</td>\n",
       "      <td>2</td>\n",
       "      <td>78.0</td>\n",
       "      <td>9.0</td>\n",
       "    </tr>\n",
       "    <tr>\n",
       "      <th>3</th>\n",
       "      <td>RABBIT_CERTIFICATION</td>\n",
       "      <td>2.0</td>\n",
       "      <td>6</td>\n",
       "      <td>25.0</td>\n",
       "      <td>8.0</td>\n",
       "    </tr>\n",
       "    <tr>\n",
       "      <th>1</th>\n",
       "      <td>BREEDER_REFERENCES</td>\n",
       "      <td>2.0</td>\n",
       "      <td>5</td>\n",
       "      <td>29.0</td>\n",
       "      <td>7.0</td>\n",
       "    </tr>\n",
       "    <tr>\n",
       "      <th>7</th>\n",
       "      <td>BREEDER_GUARANTEE</td>\n",
       "      <td>0.0</td>\n",
       "      <td>6</td>\n",
       "      <td>0.0</td>\n",
       "      <td>6.0</td>\n",
       "    </tr>\n",
       "    <tr>\n",
       "      <th>8</th>\n",
       "      <td>RABBIT_FOOD</td>\n",
       "      <td>0.0</td>\n",
       "      <td>6</td>\n",
       "      <td>0.0</td>\n",
       "      <td>6.0</td>\n",
       "    </tr>\n",
       "  </tbody>\n",
       "</table>\n",
       "</div>"
      ],
      "text/plain": [
       "                 Intent  right  wrong  percent  total\n",
       "4         RABBIT_HEALTH   22.0     22     50.0   44.0\n",
       "5        RABBIT_PARENTS   11.0      3     79.0   14.0\n",
       "0   BREEDER_INFORMATION    4.0      8     33.0   12.0\n",
       "2       PURCHASE_RABBIT    4.0      5     44.0    9.0\n",
       "6  RABBIT_SOCIALISATION    7.0      2     78.0    9.0\n",
       "3  RABBIT_CERTIFICATION    2.0      6     25.0    8.0\n",
       "1    BREEDER_REFERENCES    2.0      5     29.0    7.0\n",
       "7     BREEDER_GUARANTEE    0.0      6      0.0    6.0\n",
       "8           RABBIT_FOOD    0.0      6      0.0    6.0"
      ]
     },
     "execution_count": 26,
     "metadata": {},
     "output_type": "execute_result"
    }
   ],
   "source": [
    "lowAcc = result[(result.percent < 100) & (result['wrong'] >1)]\n",
    "lowAcc=lowAcc.sort_values(by=['total'],ascending=False)\n",
    "lowAcc"
   ]
  },
  {
   "cell_type": "markdown",
   "metadata": {},
   "source": [
    "## Confusion Matrix"
   ]
  },
  {
   "cell_type": "code",
   "execution_count": 57,
   "metadata": {},
   "outputs": [
    {
     "data": {
      "text/html": [
       "<div>\n",
       "<style scoped>\n",
       "    .dataframe tbody tr th:only-of-type {\n",
       "        vertical-align: middle;\n",
       "    }\n",
       "\n",
       "    .dataframe tbody tr th {\n",
       "        vertical-align: top;\n",
       "    }\n",
       "\n",
       "    .dataframe thead th {\n",
       "        text-align: right;\n",
       "    }\n",
       "</style>\n",
       "<table border=\"1\" class=\"dataframe\">\n",
       "  <thead>\n",
       "    <tr style=\"text-align: right;\">\n",
       "      <th></th>\n",
       "      <th>Question</th>\n",
       "      <th>GTIntent</th>\n",
       "      <th>Prediction 1</th>\n",
       "      <th>Conf 1</th>\n",
       "      <th>Pred2</th>\n",
       "      <th>conf2</th>\n",
       "      <th>match</th>\n",
       "    </tr>\n",
       "  </thead>\n",
       "  <tbody>\n",
       "    <tr>\n",
       "      <th>0</th>\n",
       "      <td>Do I need to get the rabbit neutered?</td>\n",
       "      <td>RABBIT_LIMITED_REGISTRATION</td>\n",
       "      <td>RABBIT_VET_VISITS</td>\n",
       "      <td>5</td>\n",
       "      <td>RABBIT_CERTIFICATION</td>\n",
       "      <td>5</td>\n",
       "      <td>0</td>\n",
       "    </tr>\n",
       "    <tr>\n",
       "      <th>1</th>\n",
       "      <td>Am I able to return the kit?</td>\n",
       "      <td>BREEDER_GUARANTEE</td>\n",
       "      <td>RABBIT_VET_VISITS</td>\n",
       "      <td>5</td>\n",
       "      <td>RABBIT_CERTIFICATION</td>\n",
       "      <td>5</td>\n",
       "      <td>0</td>\n",
       "    </tr>\n",
       "    <tr>\n",
       "      <th>2</th>\n",
       "      <td>What has the baby rabbits been fed?</td>\n",
       "      <td>RABBIT_FOOD</td>\n",
       "      <td>RABBIT_VET_VISITS</td>\n",
       "      <td>5</td>\n",
       "      <td>RABBIT_CERTIFICATION</td>\n",
       "      <td>5</td>\n",
       "      <td>0</td>\n",
       "    </tr>\n",
       "    <tr>\n",
       "      <th>3</th>\n",
       "      <td>What rabbit  food brand do you use?</td>\n",
       "      <td>RABBIT_FOOD</td>\n",
       "      <td>RABBIT_VET_VISITS</td>\n",
       "      <td>5</td>\n",
       "      <td>RABBIT_CERTIFICATION</td>\n",
       "      <td>5</td>\n",
       "      <td>0</td>\n",
       "    </tr>\n",
       "    <tr>\n",
       "      <th>4</th>\n",
       "      <td>Was the rabbit  well treated when being raised?</td>\n",
       "      <td>RABBIT_SOCIALISATION</td>\n",
       "      <td>RABBIT_HEALTH</td>\n",
       "      <td>100</td>\n",
       "      <td>RABBIT_VET_VISITS</td>\n",
       "      <td>0</td>\n",
       "      <td>0</td>\n",
       "    </tr>\n",
       "  </tbody>\n",
       "</table>\n",
       "</div>"
      ],
      "text/plain": [
       "                                          Question  \\\n",
       "0            Do I need to get the rabbit neutered?   \n",
       "1                     Am I able to return the kit?   \n",
       "2              What has the baby rabbits been fed?   \n",
       "3              What rabbit  food brand do you use?   \n",
       "4  Was the rabbit  well treated when being raised?   \n",
       "\n",
       "                      GTIntent       Prediction 1 Conf 1  \\\n",
       "0  RABBIT_LIMITED_REGISTRATION  RABBIT_VET_VISITS      5   \n",
       "1            BREEDER_GUARANTEE  RABBIT_VET_VISITS      5   \n",
       "2                  RABBIT_FOOD  RABBIT_VET_VISITS      5   \n",
       "3                  RABBIT_FOOD  RABBIT_VET_VISITS      5   \n",
       "4         RABBIT_SOCIALISATION      RABBIT_HEALTH    100   \n",
       "\n",
       "                  Pred2 conf2 match  \n",
       "0  RABBIT_CERTIFICATION     5     0  \n",
       "1  RABBIT_CERTIFICATION     5     0  \n",
       "2  RABBIT_CERTIFICATION     5     0  \n",
       "3  RABBIT_CERTIFICATION     5     0  \n",
       "4     RABBIT_VET_VISITS     0     0  "
      ]
     },
     "execution_count": 57,
     "metadata": {},
     "output_type": "execute_result"
    }
   ],
   "source": [
    "df1.head()"
   ]
  },
  {
   "cell_type": "code",
   "execution_count": 27,
   "metadata": {
    "collapsed": true
   },
   "outputs": [],
   "source": [
    "\n",
    "\n",
    "def get_confusion_matrix(y_true, y_pred, labels, normalize=False):\n",
    "    conf_matrix = metrics.confusion_matrix(y_true, y_pred, labels)\n",
    "    if normalize:\n",
    "        conf_matrix = conf_matrix.astype('float')/conf_matrix.sum(axis=1)[:, np.newaxis]\n",
    "    conf = pd.DataFrame(conf_matrix, index=labels, columns=labels)\n",
    "    return conf"
   ]
  },
  {
   "cell_type": "code",
   "execution_count": 29,
   "metadata": {},
   "outputs": [],
   "source": [
    "conf=df1#res[0]\n",
    "cf = get_confusion_matrix(conf['GTIntent'], conf['Prediction 1'], labels=conf['GTIntent'].unique())\n",
    "#df['Diag'] =pd.Series(np.diag(cf), index=[cf.index, cf.columns])\n",
    "cf.tail()\n",
    "\n",
    "conf = cf.to_csv('Confusion.csv', encoding='utf-8')"
   ]
  },
  {
   "cell_type": "markdown",
   "metadata": {},
   "source": [
    "## Label Data"
   ]
  },
  {
   "cell_type": "markdown",
   "metadata": {},
   "source": [
    "![rabbit eating](img/baby-bunny.jpg)"
   ]
  },
  {
   "cell_type": "code",
   "execution_count": 74,
   "metadata": {},
   "outputs": [
    {
     "data": {
      "text/html": [
       "<div>\n",
       "<style scoped>\n",
       "    .dataframe tbody tr th:only-of-type {\n",
       "        vertical-align: middle;\n",
       "    }\n",
       "\n",
       "    .dataframe tbody tr th {\n",
       "        vertical-align: top;\n",
       "    }\n",
       "\n",
       "    .dataframe thead th {\n",
       "        text-align: right;\n",
       "    }\n",
       "</style>\n",
       "<table border=\"1\" class=\"dataframe\">\n",
       "  <thead>\n",
       "    <tr style=\"text-align: right;\">\n",
       "      <th></th>\n",
       "      <th>Question</th>\n",
       "      <th>Intent</th>\n",
       "    </tr>\n",
       "  </thead>\n",
       "  <tbody>\n",
       "    <tr>\n",
       "      <th>0</th>\n",
       "      <td>Are the baby rabbits certified?</td>\n",
       "      <td>RABBIT_CERTIFICATION</td>\n",
       "    </tr>\n",
       "    <tr>\n",
       "      <th>1</th>\n",
       "      <td>What cert does the kit have?</td>\n",
       "      <td>RABBIT_CERTIFICATION</td>\n",
       "    </tr>\n",
       "    <tr>\n",
       "      <th>2</th>\n",
       "      <td>Does the rabbit  have a certificate?</td>\n",
       "      <td>RABBIT_CERTIFICATION</td>\n",
       "    </tr>\n",
       "    <tr>\n",
       "      <th>3</th>\n",
       "      <td>Is the kit certified by a vet?</td>\n",
       "      <td>RABBIT_CERTIFICATION</td>\n",
       "    </tr>\n",
       "    <tr>\n",
       "      <th>4</th>\n",
       "      <td>Has the kit been cleared by a vet?</td>\n",
       "      <td>RABBIT_CERTIFICATION</td>\n",
       "    </tr>\n",
       "    <tr>\n",
       "      <th>5</th>\n",
       "      <td>Has a vet certified the rabbit ?</td>\n",
       "      <td>RABBIT_CERTIFICATION</td>\n",
       "    </tr>\n",
       "    <tr>\n",
       "      <th>6</th>\n",
       "      <td>Do rabbits need a health cert</td>\n",
       "      <td>RABBIT_CERTIFICATION</td>\n",
       "    </tr>\n",
       "    <tr>\n",
       "      <th>7</th>\n",
       "      <td>Do rabbits get health documentation</td>\n",
       "      <td>RABBIT_CERTIFICATION</td>\n",
       "    </tr>\n",
       "    <tr>\n",
       "      <th>8</th>\n",
       "      <td>Do rabbits have parental bloodlines?</td>\n",
       "      <td>RABBIT_PARENTS_INFORMATION</td>\n",
       "    </tr>\n",
       "    <tr>\n",
       "      <th>9</th>\n",
       "      <td>Are the breeds of the rabbits parents?</td>\n",
       "      <td>RABBIT_PARENTS_INFORMATION</td>\n",
       "    </tr>\n",
       "    <tr>\n",
       "      <th>10</th>\n",
       "      <td>What are the size of the parents?</td>\n",
       "      <td>RABBIT_PARENTS_INFORMATION</td>\n",
       "    </tr>\n",
       "    <tr>\n",
       "      <th>11</th>\n",
       "      <td>What were the breeds of the parents?</td>\n",
       "      <td>RABBIT_PARENTS_INFORMATION</td>\n",
       "    </tr>\n",
       "    <tr>\n",
       "      <th>12</th>\n",
       "      <td>Did the baby rabbits parents have any issues?</td>\n",
       "      <td>RABBIT_PARENTS_INFORMATION</td>\n",
       "    </tr>\n",
       "    <tr>\n",
       "      <th>13</th>\n",
       "      <td>Where there any problems with the baby rabbits...</td>\n",
       "      <td>RABBIT_PARENTS_INFORMATION</td>\n",
       "    </tr>\n",
       "    <tr>\n",
       "      <th>14</th>\n",
       "      <td>Can I have details about the father?</td>\n",
       "      <td>RABBIT_PARENTS_INFORMATION</td>\n",
       "    </tr>\n",
       "    <tr>\n",
       "      <th>15</th>\n",
       "      <td>What breed is the baby rabbits mother?</td>\n",
       "      <td>RABBIT_PARENTS_INFORMATION</td>\n",
       "    </tr>\n",
       "    <tr>\n",
       "      <th>16</th>\n",
       "      <td>Can I meet the parents?</td>\n",
       "      <td>RABBIT_MEET_PARENTS</td>\n",
       "    </tr>\n",
       "    <tr>\n",
       "      <th>17</th>\n",
       "      <td>Can I visit the mother?</td>\n",
       "      <td>RABBIT_MEET_PARENTS</td>\n",
       "    </tr>\n",
       "    <tr>\n",
       "      <th>18</th>\n",
       "      <td>Do you allow access to the baby rabbits parents?</td>\n",
       "      <td>RABBIT_MEET_PARENTS</td>\n",
       "    </tr>\n",
       "    <tr>\n",
       "      <th>19</th>\n",
       "      <td>I would like to see the mother</td>\n",
       "      <td>RABBIT_MEET_PARENTS</td>\n",
       "    </tr>\n",
       "  </tbody>\n",
       "</table>\n",
       "</div>"
      ],
      "text/plain": [
       "                                             Question  \\\n",
       "0                     Are the baby rabbits certified?   \n",
       "1                        What cert does the kit have?   \n",
       "2                Does the rabbit  have a certificate?   \n",
       "3                      Is the kit certified by a vet?   \n",
       "4                  Has the kit been cleared by a vet?   \n",
       "5                    Has a vet certified the rabbit ?   \n",
       "6                       Do rabbits need a health cert   \n",
       "7                 Do rabbits get health documentation   \n",
       "8                Do rabbits have parental bloodlines?   \n",
       "9              Are the breeds of the rabbits parents?   \n",
       "10                  What are the size of the parents?   \n",
       "11               What were the breeds of the parents?   \n",
       "12      Did the baby rabbits parents have any issues?   \n",
       "13  Where there any problems with the baby rabbits...   \n",
       "14               Can I have details about the father?   \n",
       "15             What breed is the baby rabbits mother?   \n",
       "16                            Can I meet the parents?   \n",
       "17                            Can I visit the mother?   \n",
       "18   Do you allow access to the baby rabbits parents?   \n",
       "19                     I would like to see the mother   \n",
       "\n",
       "                        Intent  \n",
       "0         RABBIT_CERTIFICATION  \n",
       "1         RABBIT_CERTIFICATION  \n",
       "2         RABBIT_CERTIFICATION  \n",
       "3         RABBIT_CERTIFICATION  \n",
       "4         RABBIT_CERTIFICATION  \n",
       "5         RABBIT_CERTIFICATION  \n",
       "6         RABBIT_CERTIFICATION  \n",
       "7         RABBIT_CERTIFICATION  \n",
       "8   RABBIT_PARENTS_INFORMATION  \n",
       "9   RABBIT_PARENTS_INFORMATION  \n",
       "10  RABBIT_PARENTS_INFORMATION  \n",
       "11  RABBIT_PARENTS_INFORMATION  \n",
       "12  RABBIT_PARENTS_INFORMATION  \n",
       "13  RABBIT_PARENTS_INFORMATION  \n",
       "14  RABBIT_PARENTS_INFORMATION  \n",
       "15  RABBIT_PARENTS_INFORMATION  \n",
       "16         RABBIT_MEET_PARENTS  \n",
       "17         RABBIT_MEET_PARENTS  \n",
       "18         RABBIT_MEET_PARENTS  \n",
       "19         RABBIT_MEET_PARENTS  "
      ]
     },
     "execution_count": 74,
     "metadata": {},
     "output_type": "execute_result"
    }
   ],
   "source": [
    "filePath = r'tolabel.csv'\n",
    "\n",
    "label = pd.read_csv(filePath,header=0)\n",
    "\n",
    "#label=label.drop(['Unnamed: 0'], axis=1)\n",
    "label = label.dropna()        \n",
    "label.head(20)\n"
   ]
  },
  {
   "cell_type": "code",
   "execution_count": 95,
   "metadata": {},
   "outputs": [
    {
     "data": {
      "text/plain": [
       "Pipeline(memory=None,\n",
       "     steps=[('vect', CountVectorizer(analyzer='word', binary=False, decode_error='strict',\n",
       "        dtype=<class 'numpy.int64'>, encoding='utf-8', input='content',\n",
       "        lowercase=True, max_df=1.0, max_features=None, min_df=1,\n",
       "        ngram_range=(1, 2), preprocessor=None, stop_words=None,\n",
       "        strip...om_state=42, shuffle=True, tol=0.001,\n",
       "       validation_fraction=0.1, verbose=0, warm_start=False))])"
      ]
     },
     "execution_count": 95,
     "metadata": {},
     "output_type": "execute_result"
    }
   ],
   "source": [
    "#train = pd.concat([trainSent]) \n",
    "text_clf.fit(df.Question, df.Intent)        \n"
   ]
  },
  {
   "cell_type": "markdown",
   "metadata": {},
   "source": [
    "Label all the new data. And then go through it by intent agreeing or disagreeing with the label"
   ]
  },
  {
   "cell_type": "code",
   "execution_count": 96,
   "metadata": {},
   "outputs": [],
   "source": [
    "labeled = pd.DataFrame(columns=['Question', 'Prediction 1','Conf 1','Pred2','conf2'])\n",
    "i=0\n",
    "\n",
    "\n",
    "for row in label.iterrows():\n",
    "    row2=[label.iloc[i,0]]\n",
    "    predicted=text_clf.predict(row2)\n",
    "    values= text_clf.predict_proba(row2)\n",
    "    best_n = np.argsort(values, axis=1)[:,-3:]            \n",
    "    labeled = labeled.append({'Question' : row2[0] ,'Prediction 1':text_clf.classes_[best_n.item(2)],'Conf 1':math.trunc(values[0][best_n.item(2)]*100),'Pred2':text_clf.classes_[best_n.item(1)],'conf2':math.trunc(values[0][best_n.item(1)]*100)} , ignore_index=True)\n",
    "    i=i+1\n"
   ]
  },
  {
   "cell_type": "code",
   "execution_count": 97,
   "metadata": {},
   "outputs": [
    {
     "data": {
      "text/html": [
       "<div>\n",
       "<style scoped>\n",
       "    .dataframe tbody tr th:only-of-type {\n",
       "        vertical-align: middle;\n",
       "    }\n",
       "\n",
       "    .dataframe tbody tr th {\n",
       "        vertical-align: top;\n",
       "    }\n",
       "\n",
       "    .dataframe thead th {\n",
       "        text-align: right;\n",
       "    }\n",
       "</style>\n",
       "<table border=\"1\" class=\"dataframe\">\n",
       "  <thead>\n",
       "    <tr style=\"text-align: right;\">\n",
       "      <th></th>\n",
       "      <th>Question</th>\n",
       "      <th>Prediction 1</th>\n",
       "      <th>Conf 1</th>\n",
       "      <th>Pred2</th>\n",
       "      <th>conf2</th>\n",
       "    </tr>\n",
       "  </thead>\n",
       "  <tbody>\n",
       "    <tr>\n",
       "      <th>112</th>\n",
       "      <td>I want to buy a kit.</td>\n",
       "      <td>PURCHASE_RABBIT</td>\n",
       "      <td>100</td>\n",
       "      <td>RABBIT_VET_VISITS</td>\n",
       "      <td>0</td>\n",
       "    </tr>\n",
       "    <tr>\n",
       "      <th>113</th>\n",
       "      <td>Can I buy a rabbit ?</td>\n",
       "      <td>PURCHASE_RABBIT</td>\n",
       "      <td>100</td>\n",
       "      <td>RABBIT_VET_VISITS</td>\n",
       "      <td>0</td>\n",
       "    </tr>\n",
       "    <tr>\n",
       "      <th>114</th>\n",
       "      <td>I am ready to buy your baby rabbits</td>\n",
       "      <td>PURCHASE_RABBIT</td>\n",
       "      <td>100</td>\n",
       "      <td>RABBIT_VET_VISITS</td>\n",
       "      <td>0</td>\n",
       "    </tr>\n",
       "    <tr>\n",
       "      <th>115</th>\n",
       "      <td>Please sell me your rabbit</td>\n",
       "      <td>PURCHASE_RABBIT</td>\n",
       "      <td>100</td>\n",
       "      <td>RABBIT_VET_VISITS</td>\n",
       "      <td>0</td>\n",
       "    </tr>\n",
       "    <tr>\n",
       "      <th>116</th>\n",
       "      <td>I love the look of your rabbit , can I buy it.</td>\n",
       "      <td>PURCHASE_RABBIT</td>\n",
       "      <td>100</td>\n",
       "      <td>RABBIT_VET_VISITS</td>\n",
       "      <td>0</td>\n",
       "    </tr>\n",
       "  </tbody>\n",
       "</table>\n",
       "</div>"
      ],
      "text/plain": [
       "                                           Question     Prediction 1 Conf 1  \\\n",
       "112                            I want to buy a kit.  PURCHASE_RABBIT    100   \n",
       "113                            Can I buy a rabbit ?  PURCHASE_RABBIT    100   \n",
       "114             I am ready to buy your baby rabbits  PURCHASE_RABBIT    100   \n",
       "115                     Please sell me your rabbit   PURCHASE_RABBIT    100   \n",
       "116  I love the look of your rabbit , can I buy it.  PURCHASE_RABBIT    100   \n",
       "\n",
       "                 Pred2 conf2  \n",
       "112  RABBIT_VET_VISITS     0  \n",
       "113  RABBIT_VET_VISITS     0  \n",
       "114  RABBIT_VET_VISITS     0  \n",
       "115  RABBIT_VET_VISITS     0  \n",
       "116  RABBIT_VET_VISITS     0  "
      ]
     },
     "execution_count": 97,
     "metadata": {},
     "output_type": "execute_result"
    }
   ],
   "source": [
    "labeled.tail()"
   ]
  }
 ],
 "metadata": {
  "kernelspec": {
   "display_name": "Python 3",
   "language": "python",
   "name": "python3"
  },
  "language_info": {
   "codemirror_mode": {
    "name": "ipython",
    "version": 3
   },
   "file_extension": ".py",
   "mimetype": "text/x-python",
   "name": "python",
   "nbconvert_exporter": "python",
   "pygments_lexer": "ipython3",
   "version": "3.6.3"
  }
 },
 "nbformat": 4,
 "nbformat_minor": 2
}
